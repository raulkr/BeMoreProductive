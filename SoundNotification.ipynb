{
 "cells": [
  {
   "cell_type": "code",
   "execution_count": 1,
   "metadata": {},
   "outputs": [],
   "source": [
    "import beepy\n",
    "import time\n",
    "import pyttsx3\n",
    "import re\n",
    "engine = pyttsx3.init()"
   ]
  },
  {
   "cell_type": "code",
   "execution_count": 2,
   "metadata": {},
   "outputs": [],
   "source": [
    "voices = engine.getProperty('voices')  \n",
    "engine.setProperty('voice', voices[1].id) "
   ]
  },
  {
   "cell_type": "code",
   "execution_count": 4,
   "metadata": {},
   "outputs": [],
   "source": [
    "engine.say(\"Your Time starts Now\")\n",
    "engine.runAndWait()\n",
    "a=0\n",
    "while True:\n",
    "    time.sleep(600)\n",
    "    a+=10\n",
    "    beepy.make_sound.beep(sound='coin')\n",
    "    engine.say(str(a) + \"Minutes Done\")\n",
    "    engine.runAndWait()\n",
    "    if a == 20:\n",
    "        engine.say(\"Thank you, Take a break\")\n",
    "        engine.runAndWait()\n",
    "        break"
   ]
  }
 ],
 "metadata": {
  "kernelspec": {
   "display_name": "Python 3",
   "language": "python",
   "name": "python3"
  },
  "language_info": {
   "codemirror_mode": {
    "name": "ipython",
    "version": 3
   },
   "file_extension": ".py",
   "mimetype": "text/x-python",
   "name": "python",
   "nbconvert_exporter": "python",
   "pygments_lexer": "ipython3",
   "version": "3.7.4"
  }
 },
 "nbformat": 4,
 "nbformat_minor": 2
}
